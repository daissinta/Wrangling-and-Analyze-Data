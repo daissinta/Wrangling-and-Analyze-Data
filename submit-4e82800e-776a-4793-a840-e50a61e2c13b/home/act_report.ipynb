{
 "cells": [
  {
   "cell_type": "markdown",
   "metadata": {},
   "source": [
    "## Report: act_report"
   ]
  },
  {
   "cell_type": "markdown",
   "metadata": {},
   "source": [
    "### Introduction \n",
    "Real-world data is rarely clear. The dataset we've been processing (and analyzing and visualizing) here is the archive of tweets from Twitter user @dog_rates, also known as WeRateDogs. WeRateDogs is a Twitter account that rates people's dogs with a humorous comment about the dog.Our tasks in this project were the following:\n",
    "\n",
    "Step 1: data collection\n",
    "\n",
    "Step 2: data evaluation\n",
    "\n",
    "Step 3: data cleaning\n",
    "\n",
    "Step 4: Analyze and visualize the data\n",
    "\n",
    "\n",
    "\n",
    "### Step 1: data collection\n",
    "\n",
    "data was collected from three different sources:\n",
    "* manual file **download twitter_archive_enhanced.csv**\n",
    "* downloading the **image_predictions.tsv** file using the url:https://d17h27t6h515a5.cloudfront.net/topher/2017/August/599fd2ad_image-predictions/image-predictions.tsv\n",
    "* Additional Twitter API Data\n",
    "### Step 2: data evaluation\n",
    "We used two types of evaluation:\n",
    "* Visual evaluation: Each piece of collected data is displayed in the Jupyter notebook for visual evaluation.\n",
    "* Programmatic evaluation: pandas functions and methods are used to evaluate data.\n",
    "### step 3 : data cleaning\n",
    "The cleaning process involves three\n",
    "steps:\n",
    "1. Define: determine exactly what needs to be cleaned, and how\n",
    "2. Code: programmatically clean the code\n",
    "3. Test: evaluate the code to ensure the data set was cleaned properly\n",
    "### step 3 :Analyze and visualize the data\n",
    "we did three analyzes with a visualization:\n",
    " * analyze 1: he correlation between favorite and retweet ?:\n",
    " there are positive and strong correlation between favorite and retweet\n",
    " * analyze 2: musch popular dog name ?:\n",
    "the musch popular dog name is charlie and Lucy with 11 occurence\n",
    " * analyze 3: musch popular image sources ?:\n",
    " The musch popular source of image is Twitter for iPhone witch 2042 occurrences\n",
    " * visualisation \n",
    "    * retweet variation over time: We note the strong retweet between 05-2016 and 07-2016\n",
    " \n",
    " <img src=\"visualisation.png\">\n",
    " \n",
    " ### conclusion\n",
    " This report provides a simple overview of the data processing process. There is so much\n",
    "more that can be done with this dataset."
   ]
  },
  {
   "cell_type": "code",
   "execution_count": 1,
   "metadata": {},
   "outputs": [
    {
     "data": {
      "text/plain": [
       "0"
      ]
     },
     "execution_count": 1,
     "metadata": {},
     "output_type": "execute_result"
    }
   ],
   "source": [
    "import os\n",
    "\n",
    "os.system('jupyter nbconvert --to html act_report.ipynb')"
   ]
  },
  {
   "cell_type": "code",
   "execution_count": null,
   "metadata": {},
   "outputs": [],
   "source": []
  }
 ],
 "metadata": {
  "kernelspec": {
   "display_name": "Python 3",
   "language": "python",
   "name": "python3"
  },
  "language_info": {
   "codemirror_mode": {
    "name": "ipython",
    "version": 3
   },
   "file_extension": ".py",
   "mimetype": "text/x-python",
   "name": "python",
   "nbconvert_exporter": "python",
   "pygments_lexer": "ipython3",
   "version": "3.6.3"
  }
 },
 "nbformat": 4,
 "nbformat_minor": 2
}
