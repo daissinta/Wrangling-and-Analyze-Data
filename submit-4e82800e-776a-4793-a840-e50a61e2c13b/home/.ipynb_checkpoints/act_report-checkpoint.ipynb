{
 "cells": [
  {
   "cell_type": "markdown",
   "metadata": {},
   "source": [
    "## Report: act_report\n",
    "* Create a **250-word-minimum written report** called \"act_report.pdf\" or \"act_report.html\" that communicates the insights and displays the visualization(s) produced from your wrangled data. This is to be framed as an external document, like a blog post or magazine article, for example."
   ]
  },
  {
   "cell_type": "markdown",
   "metadata": {},
   "source": [
    "### Introduction \n",
    "Real-world data is rarely clear. The dataset we've been processing (and analyzing and visualizing) here is the archive of tweets from Twitter user @dog_rates, also known as WeRateDogs. WeRateDogs is a Twitter account that rates people's dogs with a humorous comment about the dog.Our tasks in this project were the following:\n",
    "\n",
    "Step 1: data collection\n",
    "\n",
    "Step 2: data evaluation\n",
    "\n",
    "Step 3: data cleaning\n",
    "\n",
    "Step 4: Analyze and visualize the data\n",
    "\n",
    "\n",
    "\n",
    "### Step 1: data collection\n",
    "\n",
    "data was collected from three different sources:\n",
    "* manual file **download twitter_archive_enhanced.csv**\n",
    "* downloading the **image_predictions.tsv** file using the url:https://d17h27t6h515a5.cloudfront.net/topher/2017/August/599fd2ad_image-predictions/image-predictions.tsv\n",
    "* Additional Twitter API Data\n",
    "### Step 2: data evaluation\n",
    "We used two types of evaluation:\n",
    "* Visual evaluation: Each piece of collected data is displayed in the Jupyter notebook for visual evaluation.\n",
    "* Programmatic evaluation: pandas functions or methods are used to evaluate data.\n",
    "### step 3 : data cleaning\n",
    "The cleaning process involves three\n",
    "steps:\n",
    "1. Define: determine exactly what needs to be cleaned, and how\n",
    "2. Code: programmatically clean the code\n",
    "3. Test: evaluate the code to ensure the data set was cleaned properly"
   ]
  },
  {
   "cell_type": "code",
   "execution_count": null,
   "metadata": {},
   "outputs": [],
   "source": []
  }
 ],
 "metadata": {
  "kernelspec": {
   "display_name": "Python 3",
   "language": "python",
   "name": "python3"
  },
  "language_info": {
   "codemirror_mode": {
    "name": "ipython",
    "version": 3
   },
   "file_extension": ".py",
   "mimetype": "text/x-python",
   "name": "python",
   "nbconvert_exporter": "python",
   "pygments_lexer": "ipython3",
   "version": "3.6.3"
  }
 },
 "nbformat": 4,
 "nbformat_minor": 2
}
