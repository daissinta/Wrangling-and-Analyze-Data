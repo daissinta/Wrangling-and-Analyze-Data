{
 "cells": [
  {
   "cell_type": "markdown",
   "metadata": {},
   "source": [
    "## Reporting: wragle_report\n",
    "* Create a **300-600 word written report** called \"wrangle_report.pdf\" or \"wrangle_report.html\" that briefly describes your wrangling efforts. This is to be framed as an internal document."
   ]
  },
  {
   "cell_type": "markdown",
   "metadata": {},
   "source": [
    "Real-world data is rarely clear. The dataset we've been processing (and analyzing and visualizing) here is the archive of tweets from Twitter user @dog_rates, also known as WeRateDogs. WeRateDogs is a Twitter account that rates people's dogs with a humorous comment about the dog.Our tasks in this project were the following:\n",
    "* Wrangling the twitter data through the following processes:\n",
    "   * Gathering data\n",
    "   * Assessing data\n",
    "   * Cleaning data\n",
    "* Storing, analyzing, and visualizing our wrangled data\n",
    "* Reporting on the data wrangling efforts and data analyses and visualizations\n",
    "### Gathering data\n",
    "data was get from three different sources:\n",
    "* manual file **download twitter_archive_enhanced.csv**\n",
    "* downloading the **image_predictions.tsv** file using the url:https://d17h27t6h515a5.cloudfront.net/topher/2017/August/599fd2ad_image-predictions/image-predictions.tsv\n",
    "* Additional Twitter API Data\n",
    "### Assessing data\n",
    "during assessing data we have make thes quality issues:\n",
    "* Keep original ratings (no retweets) with images\n",
    "* drop columns not needed for our analysis\n",
    "* Some variables have null value: **in_reply_to_status_id, in_reply_to_user_id,retweeted_status_id, retweeted_status_user_id, retweeted_status_timestamp**\n",
    "* Some name value can make confusion and can note be the name of dog: **'a', 'an'**\n",
    "* source colomn is in HTML type \n",
    "* the value of variables p1, p2, p3 begin some time with lowers letter and auther time with upers letter\n",
    "* Erroneous datatype in columns:**tweet_id,timestamp**\n",
    "* null values in **expanded_urls**\n",
    "* some values in columns: **rating_numerator,rating_denominator** are incoherents values\n",
    "* Erroneous datatype in columns:**tweet_id**\n",
    "######  Tidiness issues\n",
    "* colomns: **doggo,\tfloofer,\tpupper,\tpuppo** should be merge in one colomns **stage_dog**\n",
    "\n",
    "* **df_tweet_img_pre** should be merge with **with In df_twi_arch_enh**\n",
    "* **df_tweet** should be merge with **with In df_twi_arch_enh**\n",
    "### Cleaning data\n",
    "After the assessment, I cleaned the data through the following :\n",
    "* fixe datat type problem\n",
    "* Delete retweets by filtering the NaN of retweeted_status_user_id\n",
    "* chante all incorrect name to None\n",
    "* write values of p1, p2 p3 in lower letter\n",
    "* correct the bad rating in df_archiv_clean\n",
    "* create a new colomns stage_dog witch take type of dog from text drop doggo,floofer,pupper,puppo\n",
    "* Drop unused colomns\n",
    "* extract from HTML type a string type of source\n",
    "* merging all dataset\n"
   ]
  },
  {
   "cell_type": "code",
   "execution_count": 1,
   "metadata": {},
   "outputs": [
    {
     "data": {
      "text/plain": [
       "0"
      ]
     },
     "execution_count": 1,
     "metadata": {},
     "output_type": "execute_result"
    }
   ],
   "source": [
    "import os\n",
    "\n",
    "os.system('jupyter nbconvert --to html wrangle_report.ipynb')"
   ]
  }
 ],
 "metadata": {
  "kernelspec": {
   "display_name": "Python 3",
   "language": "python",
   "name": "python3"
  },
  "language_info": {
   "codemirror_mode": {
    "name": "ipython",
    "version": 3
   },
   "file_extension": ".py",
   "mimetype": "text/x-python",
   "name": "python",
   "nbconvert_exporter": "python",
   "pygments_lexer": "ipython3",
   "version": "3.6.3"
  }
 },
 "nbformat": 4,
 "nbformat_minor": 2
}
